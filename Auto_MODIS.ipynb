{
 "cells": [
  {
   "cell_type": "code",
   "execution_count": null,
   "metadata": {
    "scrolled": true
   },
   "outputs": [],
   "source": [
    "#First step - Set up our code\n",
    "\n",
    "import os, arcpy\n",
    "from datetime import datetime\n",
    "\n",
    "os.chdir(r\"C:\\Users\\secuc\\ArcGIS_Projects\\Project\")\n",
    "print(f\"{os.getcwd()}\")\n",
    "\n",
    "mosaicData = \"MODIS_2023\"\n",
    "mosaicResam = f\"C:\\\\Users\\\\secuc\\\\MyFiles\\\\Resampled\\\\{mosaicData}_Resample.crf\"\n",
    "mosaicResam_1 = f\"C:\\\\Users\\\\secuc\\\\MyFiles\\\\Resampled_27800\\\\{mosaicData}_Resample27.crf\"\n",
    "rasterfolder = r\"C:\\Users\\secuc\\MyFiles\\MODIS_Download\\MODIS_2023\"\n",
    "aGDB = r\"C:\\Users\\secuc\\ArcGIS_Projects\\Project\\MODIS.gdb\"\n",
    "\n",
    "print(f'{mosaicData}\\nDone at {datetime.now().strftime(\"%H:%M:%S\")}!')"
   ]
  },
  {
   "cell_type": "code",
   "execution_count": null,
   "metadata": {},
   "outputs": [],
   "source": [
    "#Second Step - Set up parameters & run Create Mosaic.\n",
    "#Third Step - Add Rasters Tools\n",
    "\n",
    "updatecs = \"NO_CELL_SIZES\"\n",
    "updatebnd = \"UPDATE_BOUNDARY\"\n",
    "updateovr = \"UPDATE_OVERVIEWS\"\n",
    "maxlevel = \"\"\n",
    "maxcs = \"\"\n",
    "maxdim = \"\"\n",
    "spatialref = \"\"\n",
    "inputdatafilter = \"*.nc\"\n",
    "subfolder = \"SUBFOLDERS\"\n",
    "duplicate = \"EXCLUDE_DUPLICATES\"\n",
    "buildpy = \"NO_PYRAMIDS\"\n",
    "calcstats = \"CALCULATE_STATISTICS\"\n",
    "buildthumb = \"NO_THUMBNAILS\"\n",
    "comments = \"Add Raster Datasets\"\n",
    "forcesr = \"\"\n",
    "estimatestats = \"ESTIMATE_STATISTICS\"\n",
    "auxilaryinput = \"\"\n",
    "enablepixcache = \"NO_PIXEL_CACHE\"\n",
    "cachelocation = \"\"\n",
    "\n",
    "arcpy.CreateMosaicDataset_management(f\"{aGDB}\", f\"{mosaicData}\", arcpy.SpatialReference(3857))\n",
    "\n",
    "arcpy.management.AddRastersToMosaicDataset(f\"{aGDB}\\\\{mosaicData}\", \"NetCDF\", f\"{rasterfolder}\", f\"{updatecs}\", f\"{updatebnd}\", f\"{updateovr}\", f\"{maxlevel}\", f\"{maxcs}\", f\"{maxdim}\", f\"{spatialref}\", f\"{inputdatafilter}\", f\"{subfolder}\", f\"{duplicate}\", f\"{buildpy}\", f\"{calcstats}\", f\"{buildthumb}\", f\"{comments}\", f\"{forcesr}\", f\"{estimatestats}\", f\"{auxilaryinput}\", f\"{enablepixcache}\", f\"{cachelocation}\")\n",
    "\n",
    "print(f'Done at {datetime.now().strftime(\"%H:%M:%S\")}!')"
   ]
  },
  {
   "cell_type": "code",
   "execution_count": null,
   "metadata": {},
   "outputs": [],
   "source": [
    "#Fourth Step - Create and populate the field to extract the date from the Name. \n",
    "#Fifth convert to date.\n",
    "\n",
    "arcpy.management.AddField(mosaicData, \"Time\", \"TEXT\")\n",
    "\n",
    "with arcpy.da.UpdateCursor(mosaicData, [\"Name\", \"Time\"]) as aCursor:\n",
    "    for aRow in aCursor:\n",
    "        if \"TERRA\" in aRow[0]:\n",
    "            aRow[1] = aRow[0][12:20]\n",
    "            aCursor.updateRow(aRow)\n",
    "\n",
    "arcpy.ConvertTimeField_management(f\"{mosaicData}\\Footprint\", \"Time\", \"yyyyMMddHHmmss\", \"Time_Extracted\")\n",
    "\n",
    "print(f'Done at {datetime.now().strftime(\"%H:%M:%S\")}!')"
   ]
  },
  {
   "cell_type": "markdown",
   "metadata": {},
   "source": [
    "### Sixth Step - Build the multidimensional information.\n",
    "\n",
    "arcpy.md.BuildMultidimensionalInfo(f\"{mosaicData}_2\", \"chlor_a\", \"Time_Extracted\")\n",
    "\n",
    "print(\"Done!\")"
   ]
  },
  {
   "cell_type": "markdown",
   "metadata": {},
   "source": [
    "### Seventh Step - Resample 4630 - UpSampling - higher resolutions but worse statistics.\n",
    "### To prevent False Accuracy it is best to downsample\n",
    "\n",
    "arcpy.management.Resample(mosaicData, mosaicResam, 4630, \"NEAREST\")\n",
    "\n",
    "print(f'Done at {datetime.now().strftime(\"%H:%M:%S\")}!')"
   ]
  },
  {
   "cell_type": "code",
   "execution_count": null,
   "metadata": {
    "scrolled": true
   },
   "outputs": [],
   "source": [
    "# 27800 meters ----- DownSampling - Lower Resolution but better statistics\n",
    "mosaicData = [\"MODIS_2011\", \"MODIS_2012\", \"MODIS_2013\", \"MODIS_2014\", \"MODIS_2015\", \"MODIS_2016\", \"MODIS_2017\", \"MODIS_2018\", \"MODIS_2019\", \"MODIS_2020\", \"MODIS_2021\", \"MODIS_2022\", \"MODIS_2023\"]\n",
    "\n",
    "for item in mosaicData:\n",
    "    arcpy.management.Resample(item, f\"C:\\\\Users\\\\secuc\\\\MyFiles\\\\Resampled_27800\\\\{item}_Resample27.crf\", 27820, \"NEAREST\")\n",
    "\n",
    "print(f'Done at {datetime.now().strftime(\"%H:%M:%S\")}!')"
   ]
  },
  {
   "cell_type": "code",
   "execution_count": null,
   "metadata": {
    "scrolled": true
   },
   "outputs": [],
   "source": [
    "# Data managing...\n",
    "\n",
    "arcpy.DeleteField_management(mosaicData, \"Time\")\n",
    "\n",
    "print(f'Done at {datetime.now().strftime(\"%H:%M:%S\")}!')"
   ]
  }
 ],
 "metadata": {
  "kernelspec": {
   "display_name": "Python 3 (ipykernel)",
   "language": "python",
   "name": "python3"
  },
  "language_info": {
   "codemirror_mode": {
    "name": "ipython",
    "version": 3
   },
   "file_extension": ".py",
   "mimetype": "text/x-python",
   "name": "python",
   "nbconvert_exporter": "python",
   "pygments_lexer": "ipython3",
   "version": "3.11.8"
  }
 },
 "nbformat": 4,
 "nbformat_minor": 2
}
