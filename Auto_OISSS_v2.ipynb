{
 "cells": [
  {
   "cell_type": "code",
   "execution_count": 19,
   "metadata": {
    "scrolled": false
   },
   "outputs": [
    {
     "name": "stdout",
     "output_type": "stream",
     "text": [
      "C:\\Users\\secuc\\ArcGIS_Projects\\Project\n",
      "OISSSvs2_2023\n",
      "Done at 14:05:18!\n"
     ]
    }
   ],
   "source": [
    "#First step - Set up our code\n",
    "\n",
    "import os, arcpy\n",
    "from datetime import datetime\n",
    "\n",
    "os.chdir(r\"C:\\Users\\secuc\\ArcGIS_Projects\\Project\")\n",
    "print(f\"{os.getcwd()}\")\n",
    "\n",
    "mosaicData = \"OISSSvs2_2023\"\n",
    "crfMosaic = f\"C:\\\\Users\\\\secuc\\\\MyFiles\\\\CRF\\\\{mosaicData}.crf\"\n",
    "rasterfolder = r\"C:\\Users\\secuc\\MyFiles\\OISSS_v2\\OISSS_2023\"\n",
    "aGDB = r\"C:\\Users\\secuc\\ArcGIS_Projects\\Project\\OISSS.gdb\"\n",
    "\n",
    "print(f'{mosaicData}\\nDone at {datetime.now().strftime(\"%H:%M:%S\")}!')"
   ]
  },
  {
   "cell_type": "code",
   "execution_count": 20,
   "metadata": {},
   "outputs": [
    {
     "name": "stdout",
     "output_type": "stream",
     "text": [
      "Done at 14:05:55!\n"
     ]
    }
   ],
   "source": [
    "#Second Step - Set up parameters & run Create Mosaic.\n",
    "#Third Step - Add Rasters Tools\n",
    "\n",
    "updatecs = \"NO_CELL_SIZES\"\n",
    "updatebnd = \"UPDATE_BOUNDARY\"\n",
    "updateovr = \"UPDATE_OVERVIEWS\"\n",
    "maxlevel = \"\"\n",
    "maxcs = \"\"\n",
    "maxdim = \"\"\n",
    "spatialref = \"\"\n",
    "inputdatafilter = \"*.nc\"\n",
    "subfolder = \"SUBFOLDERS\"\n",
    "duplicate = \"EXCLUDE_DUPLICATES\"\n",
    "buildpy = \"NO_PYRAMIDS\"\n",
    "calcstats = \"CALCULATE_STATISTICS\"\n",
    "buildthumb = \"NO_THUMBNAILS\"\n",
    "comments = \"Add Raster Datasets\"\n",
    "forcesr = \"\"\n",
    "estimatestats = \"ESTIMATE_STATISTICS\"\n",
    "auxilaryinput = \"\"\n",
    "enablepixcache = \"NO_PIXEL_CACHE\"\n",
    "cachelocation = \"\"\n",
    "\n",
    "arcpy.CreateMosaicDataset_management(f\"{aGDB}\", mosaicData, arcpy.SpatialReference(3857))\n",
    "\n",
    "arcpy.management.AddRastersToMosaicDataset(f\"{aGDB}\\\\{mosaicData}\", \"NetCDF\", f\"{rasterfolder}\", f\"{updatecs}\", f\"{updatebnd}\", f\"{updateovr}\", f\"{maxlevel}\", f\"{maxcs}\", f\"{maxdim}\", f\"{spatialref}\", f\"{inputdatafilter}\", f\"{subfolder}\", f\"{duplicate}\", f\"{buildpy}\", f\"{calcstats}\", f\"{buildthumb}\", f\"{comments}\", f\"{forcesr}\", f\"{estimatestats}\", f\"{auxilaryinput}\", f\"{enablepixcache}\", f\"{cachelocation}\")\n",
    "\n",
    "print(f'Done at {datetime.now().strftime(\"%H:%M:%S\")}!')"
   ]
  },
  {
   "cell_type": "markdown",
   "metadata": {},
   "source": [
    "### DO NOT PROCEED WITH NEXT STEPS. THEY CAUSE ERRORS TO OCCUR."
   ]
  },
  {
   "cell_type": "markdown",
   "metadata": {},
   "source": [
    "### ****"
   ]
  },
  {
   "cell_type": "code",
   "execution_count": null,
   "metadata": {
    "scrolled": true
   },
   "outputs": [],
   "source": [
    "#Fourth Step - Create and populate the field to extract the date from the Name. \n",
    "#Fifth convert to date.\n",
    "\n",
    "arcpy.management.AddField(mosaicData, \"Time\", \"TEXT\")\n",
    "\n",
    "with arcpy.da.UpdateCursor(mosaicData, [\"Name\", \"Time\"]) as aCursor:\n",
    "    for aRow in aCursor:\n",
    "        if \"OISSS\" in aRow[0]:\n",
    "            aRow[1] = aRow[0][42:49]\n",
    "            aCursor.updateRow(aRow)\n",
    "\n",
    "arcpy.ConvertTimeField_management(f\"{mosaicData}\\Footprint\", \"Time\", \"yyyy-MM-dd HHmmss\", \"Time_Extracted\")\n",
    "\n",
    "print(f'Done at {datetime.now().strftime(\"%H:%M:%S\")}!')"
   ]
  },
  {
   "cell_type": "markdown",
   "metadata": {},
   "source": [
    "### Sixth Step - Build the multidimensional information.\n",
    "\n",
    "arcpy.md.BuildMultidimensionalInfo(f\"{mosaicData}_2\", \"sss\", \"Time_Extracted\")\n",
    "\n",
    "print(\"Done!\")\n",
    "\n",
    "#DO NOT USE UNTIL WE FIGURE OUT WHATS WRONG WITH THIS CODE!!!"
   ]
  },
  {
   "cell_type": "markdown",
   "metadata": {},
   "source": [
    "### Proceed below"
   ]
  },
  {
   "cell_type": "markdown",
   "metadata": {},
   "source": [
    "### Seventh Step - Convert to CRF\n",
    "- Make sure to maintain clipping extent!\n",
    "- Make sure to save in CRF folder!\n",
    "- Make sure to apply snap raster!"
   ]
  },
  {
   "cell_type": "markdown",
   "metadata": {},
   "source": [
    "### Eighth Step - Resample 4630 - UpSampling - higher resolutions but worse statistics.\n",
    "## False Accuracy!!! Best to Downsample\n",
    "\n",
    "arcpy.management.Resample(crfMosaic, mosaicResam, 4630, \"NEAREST\")\n",
    "\n",
    "print(f'Done at {datetime.now().strftime(\"%H:%M:%S\")}!')"
   ]
  },
  {
   "cell_type": "code",
   "execution_count": 22,
   "metadata": {},
   "outputs": [
    {
     "name": "stdout",
     "output_type": "stream",
     "text": [
      "Done at 14:14:11!\n"
     ]
    }
   ],
   "source": [
    "#Eighth Step - Resample 27820 - Upsample a little bit, so should be okay. Still low res...\n",
    "mosaicDataa = [\"OISSSvs2_2011\", \"OISSSvs2_2012\", \"OISSSvs2_2013\", \"OISSSvs2_2014\", \"OISSSvs2_2015\", \"OISSSvs2_2016\", \"OISSSvs2_2017\", \"OISSSvs2_2018\", \"OISSSvs2_2019\", \"OISSSvs2_2020\", \"OISSSvs2_2021\", \"OISSSvs2_2022\", \"OISSSvs2_2023\"]\n",
    "\n",
    "for item in mosaicDataa:\n",
    "    arcpy.management.Resample(f\"{item}.crf\", f\"C:\\\\Users\\\\secuc\\\\MyFiles\\\\Resampled_27800\\\\{item}_Resample27.crf\", 27820, \"NEAREST\")\n",
    "\n",
    "print(f'Done at {datetime.now().strftime(\"%H:%M:%S\")}!')"
   ]
  },
  {
   "cell_type": "code",
   "execution_count": null,
   "metadata": {
    "scrolled": true
   },
   "outputs": [],
   "source": [
    "# Data managing...\n",
    "\n",
    "arcpy.DeleteField_management(mosaicData, \"MO\")\n",
    "arcpy.DeleteField_management(mosaicData, \"Time\")\n",
    "\n",
    "print(f'Done at {datetime.now().strftime(\"%H:%M:%S\")}!')"
   ]
  }
 ],
 "metadata": {
  "kernelspec": {
   "display_name": "ArcGISPro",
   "language": "Python",
   "name": "python3"
  },
  "language_info": {
   "file_extension": ".py",
   "name": "python",
   "version": "3"
  }
 },
 "nbformat": 4,
 "nbformat_minor": 2
}
